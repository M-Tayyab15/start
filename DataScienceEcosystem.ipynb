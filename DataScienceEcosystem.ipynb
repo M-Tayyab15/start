{
 "cells": [
  {
   "cell_type": "markdown",
   "id": "ebf599a1-cabb-487a-af96-e19f36e69f77",
   "metadata": {},
   "source": [
    "Data Science Tools and Ecosystem"
   ]
  },
  {
   "cell_type": "markdown",
   "id": "bc832f4c-ed2a-4e1a-9fde-5fa8247dd5a5",
   "metadata": {},
   "source": [
    "In this notebook, Data Science Tools and Ecosystem are summarized"
   ]
  },
  {
   "cell_type": "markdown",
   "id": "9ed8d2b4-a6ea-49d1-a4c4-969c5adaa76d",
   "metadata": {},
   "source": [
    "Some of the popular languages that Data Scientists use are:\n",
    "1. Python\n",
    "2. R\n",
    "3. Ada"
   ]
  },
  {
   "cell_type": "markdown",
   "id": "261c08b8-6d99-4c55-b2b2-1f21b8042658",
   "metadata": {},
   "source": [
    "Some of the commonly used libraries used by Data Scientists include:\n",
    "1. MatPlot\n",
    "2. TensorFlow\n",
    "3. Keras"
   ]
  },
  {
   "cell_type": "markdown",
   "id": "f09443cb-b143-4a58-9875-af88a4e20076",
   "metadata": {},
   "source": [
    "Data Science Tools:\n",
    "Jupyter\n",
    "Collab\n",
    "RStudio"
   ]
  },
  {
   "cell_type": "markdown",
   "id": "18f3bed0-5177-4873-bd7f-94e711a9c27c",
   "metadata": {},
   "source": [
    "Below are a few examples of evaluating arithmetic expressions in Python"
   ]
  }
 ],
 "metadata": {
  "kernelspec": {
   "display_name": "Python",
   "language": "python",
   "name": "conda-env-python-py"
  },
  "language_info": {
   "codemirror_mode": {
    "name": "ipython",
    "version": 3
   },
   "file_extension": ".py",
   "mimetype": "text/x-python",
   "name": "python",
   "nbconvert_exporter": "python",
   "pygments_lexer": "ipython3",
   "version": "3.7.12"
  }
 },
 "nbformat": 4,
 "nbformat_minor": 5
}
